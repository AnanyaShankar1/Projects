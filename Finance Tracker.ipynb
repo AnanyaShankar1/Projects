{
 "cells": [
  {
   "cell_type": "code",
   "execution_count": null,
   "id": "be5ca311",
   "metadata": {},
   "outputs": [],
   "source": [
    "import gspread\n",
    "import pandas as pd\n",
    "import openai\n",
    "import smtplib\n",
    "import matplotlib.pyplot as plt\n",
    "from oauth2client.service_account import ServiceAccountCredentials\n",
    "from email.mime.multipart import MIMEMultipart\n",
    "from email.mime.text import MIMEText"
   ]
  },
  {
   "cell_type": "code",
   "execution_count": null,
   "id": "b3a5d64b",
   "metadata": {},
   "outputs": [],
   "source": [
    "# Google Sheets Authentication\n",
    "scope = [\"https://spreadsheets.google.com/feeds\", \"https://www.googleapis.com/auth/drive\"]\n",
    "creds = ServiceAccountCredentials.from_json_keyfile_name(\"google_sheets_credentials.json\", scope)\n",
    "client = gspread.authorize(creds)"
   ]
  },
  {
   "cell_type": "code",
   "execution_count": null,
   "id": "1e35775e",
   "metadata": {},
   "outputs": [],
   "source": [
    "sheet = client.open(\"Personal Finance Tracker\").sheet1  \n",
    "data = sheet.get_all_records()"
   ]
  },
  {
   "cell_type": "code",
   "execution_count": null,
   "id": "6ff1ab25",
   "metadata": {},
   "outputs": [],
   "source": [
    "df = pd.DataFrame(data)\n",
    "df"
   ]
  },
  {
   "cell_type": "code",
   "execution_count": null,
   "id": "040d3729",
   "metadata": {},
   "outputs": [],
   "source": [
    "description_col = \"Notes\" \\\n",
    "\n",
    "def categorize_expense(description):\n",
    "    try:\n",
    "        response = openai.ChatCompletion.create(\n",
    "            model=\"gpt-4\",\n",
    "            messages=[\n",
    "                {\"role\": \"system\", \"content\": \"You are an AI that categorizes expenses.\"},\n",
    "                {\"role\": \"user\", \"content\": f\"Categorize this expense: {description}\"}\n",
    "            ]\n",
    "        )\n",
    "        return response.choices[0].message.content.strip()\n",
    "    except Exception as e:\n",
    "        print(f\"Error in API call: {e}\")\n",
    "        return \"Uncategorized\"  "
   ]
  },
  {
   "cell_type": "code",
   "execution_count": null,
   "id": "c311c604",
   "metadata": {},
   "outputs": [],
   "source": [
    "with open(\"openai_key.txt\", \"r\") as file:\n",
    "    api_key = file.read().strip()  \n",
    "\n",
    "\n",
    "import openai\n",
    "client = api_key"
   ]
  },
  {
   "cell_type": "code",
   "execution_count": null,
   "id": "b51c2e87",
   "metadata": {},
   "outputs": [],
   "source": [
    "spending_summary = df.groupby(\"Category\")[\"Amount\"].sum().to_string()\n",
    "\n",
    "# AI prompt for financial insights\n",
    "budget_insight_prompt = f\"Analyze the following spending data and provide budgeting tips:\\n{spending_summary}\"\n",
    "\n",
    "# ** Fixed API Call **\n",
    "response = client.chat.completions.create(\n",
    "    model=\"gpt-4\",\n",
    "    messages=[{\"role\": \"user\", \"content\": budget_insight_prompt}]\n",
    ")\n",
    "\n",
    "# Extract response\n",
    "budget_insights = response.choices[0].message.content\n",
    "print(\"\\n💰 Budgeting Insights from AI:\\n\", budget_insights)"
   ]
  },
  {
   "cell_type": "code",
   "execution_count": null,
   "id": "0055a69c",
   "metadata": {},
   "outputs": [],
   "source": [
    "df = df.loc[df['Type']=='Expense']"
   ]
  },
  {
   "cell_type": "code",
   "execution_count": null,
   "id": "4e561c8f",
   "metadata": {},
   "outputs": [],
   "source": [
    "df['Amount'] = pd.to_numeric(df['Amount'])"
   ]
  },
  {
   "cell_type": "code",
   "execution_count": null,
   "id": "2742cfbd",
   "metadata": {},
   "outputs": [],
   "source": [
    "# Generate Expense Report\n",
    "plt.figure(figsize=(8, 5))\n",
    "df.groupby(\"Category\")[\"Amount\"].sum().plot(kind=\"bar\", color=\"skyblue\")\n",
    "plt.title(\"Spending Breakdown\")\n",
    "plt.ylabel(\"Amount Spent ($)\")\n",
    "plt.savefig(\"spending_report.png\")"
   ]
  },
  {
   "cell_type": "code",
   "execution_count": null,
   "id": "468b0226",
   "metadata": {},
   "outputs": [],
   "source": [
    "# Send Email with Summary\n",
    "def send_email():\n",
    "    sender_email = \"your_email@gmail.com\"\n",
    "    receiver_email = \"recipient_email@gmail.com\"\n",
    "    password = \"your_app_password\"\n",
    "\n",
    "    msg = MIMEMultipart()\n",
    "    msg[\"From\"] = sender_email\n",
    "    msg[\"To\"] = receiver_email\n",
    "    msg[\"Subject\"] = \"📊 Monthly Finance Report\"\n",
    "\n",
    "    body = f\"Here is your monthly spending summary:\\n\\n{spending_summary}\\n\\nBudgeting Insights:\\n{budget_insights}\"\n",
    "    msg.attach(MIMEText(body, \"plain\"))\n",
    "\n",
    "    with smtplib.SMTP(\"smtp.gmail.com\", 587) as server:\n",
    "        server.starttls()\n",
    "        server.login(sender_email, password)\n",
    "        server.sendmail(sender_email, receiver_email, msg.as_string())\n",
    "\n",
    "send_email()\n",
    "\n",
    "print(\"✅ AI Finance Report Sent!\")"
   ]
  },
  {
   "cell_type": "code",
   "execution_count": null,
   "id": "7359aec3",
   "metadata": {},
   "outputs": [],
   "source": []
  }
 ],
 "metadata": {
  "kernelspec": {
   "display_name": "Python 3 (ipykernel)",
   "language": "python",
   "name": "python3"
  },
  "language_info": {
   "codemirror_mode": {
    "name": "ipython",
    "version": 3
   },
   "file_extension": ".py",
   "mimetype": "text/x-python",
   "name": "python",
   "nbconvert_exporter": "python",
   "pygments_lexer": "ipython3",
   "version": "3.11.4"
  }
 },
 "nbformat": 4,
 "nbformat_minor": 5
}
